{
 "cells": [
  {
   "cell_type": "code",
   "execution_count": 1,
   "metadata": {},
   "outputs": [],
   "source": [
    "from sklearn import svm\n",
    "from random import randrange\n",
    "import numpy as np\n",
    "import matplotlib.pyplot as plt\n",
    "import pandas as pd\n",
    "from sklearn.model_selection import train_test_split\n",
    "from numpy import loadtxt, savetxt\n",
    "from sklearn.cluster import KMeans\n",
    "from sklearn.model_selection import cross_validate\n",
    "from sklearn.naive_bayes import BernoulliNB\n",
    "from sklearn.model_selection import GridSearchCV\n",
    "import seaborn as sns\n",
    "from sklearn.svm import SVC\n",
    "from sklearn.metrics import precision_recall_fscore_support\n",
    "from sklearn.metrics import classification_report, confusion_matrix\n",
    "from sklearn import preprocessing\n",
    "from sklearn.ensemble import ExtraTreesClassifier\n",
    "import scikitplot\n",
    "from scikitplot.metrics import plot_roc_curve\n",
    "from sklearn.pipeline import make_pipeline\n",
    "from sklearn.model_selection import cross_val_score\n",
    "from sklearn.preprocessing import MinMaxScaler\n",
    "from sklearn.metrics import mean_squared_error"
   ]
  },
  {
   "cell_type": "code",
   "execution_count": 2,
   "metadata": {},
   "outputs": [
    {
     "name": "stdout",
     "output_type": "stream",
     "text": [
      "   Age  Brush  Ball  Watch  Mobile  Duster\n",
      "0    2   3.00  2.02   1.40    3.02    1.78\n",
      "1    2   2.61  2.51   5.57    2.26    2.34\n",
      "2    2  10.56  4.42  12.62    8.69   18.76\n",
      "3    2   3.05  2.89   3.13    3.49    3.22\n",
      "4    2   3.12  3.82   2.74    1.73    1.41\n",
      "[[  0. 112.]\n",
      " [  1.  37.]]\n",
      "[0. 1. 1. 0. 0. 0. 0. 1. 1. 0. 1. 0. 0. 0. 0. 1. 1. 1. 1. 1. 0. 0. 1. 1.\n",
      " 0. 1. 0. 1. 1. 1. 0. 0. 0. 1. 1. 0. 0. 0. 0. 1. 1. 0. 0. 0. 0. 0. 0. 0.\n",
      " 1. 0. 0. 0. 1. 0. 0. 0. 0. 0. 0. 0. 0. 0. 0. 0. 1. 0. 0. 1. 0. 1. 0. 0.\n",
      " 0. 0. 0. 0. 0. 1. 0. 0. 0. 0. 1. 0. 0. 1. 0. 0. 0. 0. 1. 0. 1. 1. 0. 0.\n",
      " 0. 0. 0. 0. 0. 0. 0. 0. 0. 0. 0. 0. 0. 0. 0. 0. 0. 1. 0. 0. 0. 0. 0. 0.\n",
      " 0. 0. 0. 1. 0. 0. 0. 0. 1. 0. 0. 1. 0. 0. 0. 0. 1. 0. 0. 0. 0. 0. 0. 0.\n",
      " 1. 0. 0. 0. 0.]\n"
     ]
    }
   ],
   "source": [
    "y = np.loadtxt(\"kmeanpredict.csv\", delimiter=\",\")\n",
    "dataset = pd.read_csv(r'C:\\Users\\rishi\\Desktop\\FinalDataset.csv')\n",
    "data = dataset.copy()\n",
    "data = pd.DataFrame(data)\n",
    "print(data.head())\n",
    "data.columns = ['Age', 'Brush', 'Ball', 'Watch', 'Mobile', 'Duster']\n",
    "X = data[['Age', 'Brush', 'Ball', 'Watch', 'Mobile', 'Duster']].to_numpy()\n",
    "(unique, counts) = np.unique(y, return_counts=True)\n",
    "frequencies = np.asarray((unique, counts)).T\n",
    "print(frequencies)\n",
    "print(y)"
   ]
  },
  {
   "cell_type": "code",
   "execution_count": 3,
   "metadata": {},
   "outputs": [
    {
     "name": "stdout",
     "output_type": "stream",
     "text": [
      "[[ 0. 88.]\n",
      " [ 1. 23.]]\n",
      "[[ 0. 24.]\n",
      " [ 1. 14.]]\n"
     ]
    }
   ],
   "source": [
    "X_train, X_test, y_train, y_test = train_test_split(X, y)\n",
    "(unique, counts) = np.unique(y_train, return_counts=True)\n",
    "frequencies = np.asarray((unique, counts)).T\n",
    "(unique, counts) = np.unique(y_test, return_counts=True)\n",
    "frequencies2 = np.asarray((unique, counts)).T\n",
    "print(frequencies)\n",
    "print(frequencies2)\n",
    "scaler = preprocessing.StandardScaler()\n",
    "X_train = scaler.fit_transform(X_train)\n",
    "X_test = scaler.transform(X_test)\n"
   ]
  },
  {
   "cell_type": "code",
   "execution_count": 4,
   "metadata": {},
   "outputs": [
    {
     "name": "stdout",
     "output_type": "stream",
     "text": [
      "1.0\n",
      "[0.94444444 1.         0.94117647 0.94117647 0.9375     1.\n",
      " 1.         1.         1.        ]\n",
      "97.3810820624546\n"
     ]
    }
   ],
   "source": [
    "clf = SVC(C=10, cache_size=200, class_weight=None, coef0=0.0,\n",
    "    decision_function_shape='ovr', degree=3, gamma=1, kernel='linear',\n",
    "    max_iter=-1, probability=True, random_state=None, shrinking=True, tol=0.001,\n",
    "    verbose=False)\n",
    "clf.fit(X_train, y_train)\n",
    "y_pred = clf.predict(X_test)\n",
    "print(clf.score(X_test,y_test))\n",
    "scores = cross_val_score(clf, X, y, cv=9)\n",
    "print(scores)\n",
    "final = np.mean(scores)\n",
    "print(final*100)"
   ]
  },
  {
   "cell_type": "code",
   "execution_count": 5,
   "metadata": {},
   "outputs": [
    {
     "name": "stdout",
     "output_type": "stream",
     "text": [
      "[0.94444444 1.         0.94117647 1.         0.9375     0.9375\n",
      " 1.         1.         1.        ]\n",
      "97.34023238925201\n"
     ]
    }
   ],
   "source": [
    "\n",
    "#scaler = MinMaxScaler() \n",
    "#data_scaled = scaler.fit_transform(X)\n",
    "scaler = preprocessing.StandardScaler()\n",
    "data_scaled = scaler.fit_transform(X)\n",
    "clf1 = SVC(C=10, cache_size=200, class_weight=None, coef0=0.0,\n",
    "            decision_function_shape='ovr', degree=3, gamma=1, kernel='linear',\n",
    "            max_iter=-1, probability=True, random_state=None, shrinking=True, tol=0.001,\n",
    "            verbose=False)\n",
    "scores = cross_val_score(clf1, data_scaled, y, cv=9)\n",
    "print(scores)\n",
    "final = np.mean(scores)\n",
    "print(final*100)"
   ]
  },
  {
   "cell_type": "code",
   "execution_count": null,
   "metadata": {},
   "outputs": [],
   "source": []
  }
 ],
 "metadata": {
  "kernelspec": {
   "display_name": "Python 3",
   "language": "python",
   "name": "python3"
  },
  "language_info": {
   "codemirror_mode": {
    "name": "ipython",
    "version": 3
   },
   "file_extension": ".py",
   "mimetype": "text/x-python",
   "name": "python",
   "nbconvert_exporter": "python",
   "pygments_lexer": "ipython3",
   "version": "3.7.4"
  }
 },
 "nbformat": 4,
 "nbformat_minor": 2
}
